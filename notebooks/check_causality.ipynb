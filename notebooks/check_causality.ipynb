{
 "cells": [
  {
   "cell_type": "code",
   "execution_count": 1,
   "metadata": {},
   "outputs": [],
   "source": [
    "%load_ext autoreload\n",
    "%autoreload 2"
   ]
  },
  {
   "cell_type": "code",
   "execution_count": 2,
   "metadata": {},
   "outputs": [],
   "source": [
    "import torch\n",
    "import torch.nn as nn\n",
    "import torch.nn.functional as F\n",
    "from torch.autograd import grad\n",
    "from dataclasses import dataclass\n",
    "from tqdm import tqdm "
   ]
  },
  {
   "cell_type": "code",
   "execution_count": 5,
   "metadata": {},
   "outputs": [],
   "source": [
    "@dataclass\n",
    "class GPTConfig:\n",
    "    block_size: int = 256\n",
    "    vocab_size: int = 50304 # GPT-2 vocab_size of 50257, padded up to nearest multiple of 64 for efficiency\n",
    "    n_head: int = 2\n",
    "    batch_size: int = 2\n",
    "    n_embd: int = 128\n",
    "    dropout: float = 0.0\n",
    "    bias: bool = True       # True: bias in Linears and LayerNorms, like GPT-2. False: a bit better and faster\n",
    "    TK_kernel: bool = False # True: use the TK kernel, False: use standard flash attention\n",
    "\n",
    "config = GPTConfig()"
   ]
  },
  {
   "cell_type": "code",
   "execution_count": 6,
   "metadata": {},
   "outputs": [
    {
     "name": "stdout",
     "output_type": "stream",
     "text": [
      "Running flash attention\n",
      "torch.Size([2, 128, 256])\n"
     ]
    },
    {
     "name": "stderr",
     "output_type": "stream",
     "text": [
      "  0%|          | 0/255 [00:00<?, ?it/s]"
     ]
    },
    {
     "name": "stderr",
     "output_type": "stream",
     "text": [
      "100%|██████████| 255/255 [01:17<00:00,  3.28it/s]"
     ]
    },
    {
     "name": "stdout",
     "output_type": "stream",
     "text": [
      "Passed causality at l=256, d_model=128, batch_size=2!\n",
      "\n",
      "\n"
     ]
    },
    {
     "name": "stderr",
     "output_type": "stream",
     "text": [
      "\n"
     ]
    }
   ],
   "source": [
    "import sys\n",
    "sys.path.append(\"../\")\n",
    "from src.model import CausalSelfAttention\n",
    "from einops import rearrange\n",
    "\n",
    "def test_attn_causality(\n",
    "    attn_cls: type,\n",
    "    config = None,\n",
    "):\n",
    "    # set seed\n",
    "    torch.manual_seed(42)\n",
    "    layer = attn_cls(config)\n",
    "\n",
    "    u = torch.randn(config.batch_size, config.n_embd, config.block_size, requires_grad=True)\n",
    "    y = layer(u.transpose(1,2)).permute(0, 2, 1)  # batch, dim, l\n",
    "    print(y.shape)\n",
    "\n",
    "    # gradients from the future must be approx. zero\n",
    "    for i in tqdm(range(config.block_size - 1)):\n",
    "        for j in range(config.n_embd):\n",
    "            g = grad(y[0, j, i], u, retain_graph=True, allow_unused=True)[0]\n",
    "            check = torch.abs(g[0, :, i + 1 :])\n",
    "            assert (\n",
    "                torch.max(check) < 1e-7\n",
    "            ), \"function is not causal at position {}, {}\".format(i, check)\n",
    "    print(f\"Passed causality at l={config.block_size}, d_model={config.n_embd}, batch_size={config.batch_size}!\\n\\n\")\n",
    "\n",
    "test_attn_causality(\n",
    "    CausalSelfAttention,\n",
    "    config,\n",
    ")"
   ]
  },
  {
   "cell_type": "code",
   "execution_count": 13,
   "metadata": {},
   "outputs": [
    {
     "name": "stdout",
     "output_type": "stream",
     "text": [
      "torch.Size([2, 128, 256])\n",
      "bs: 2, h: 2, n: 256, d: 128\n"
     ]
    },
    {
     "name": "stderr",
     "output_type": "stream",
     "text": [
      "  0%|          | 0/255 [00:00<?, ?it/s]"
     ]
    },
    {
     "name": "stderr",
     "output_type": "stream",
     "text": [
      "100%|██████████| 255/255 [00:20<00:00, 12.45it/s]"
     ]
    },
    {
     "name": "stdout",
     "output_type": "stream",
     "text": [
      "Passed causality at l=256, d_model=128, batch_size=2!\n",
      "\n",
      "\n"
     ]
    },
    {
     "name": "stderr",
     "output_type": "stream",
     "text": [
      "\n"
     ]
    }
   ],
   "source": [
    "import sys\n",
    "sys.path.append(\"../\")\n",
    "from src.custom_model import CustomAttention\n",
    "from einops import rearrange\n",
    "\n",
    "def test_attn_causality(\n",
    "    attn_cls: type,\n",
    "    config = None,\n",
    "):\n",
    "    # set seed\n",
    "    torch.manual_seed(42)\n",
    "    layer = attn_cls(config).cuda().to(dtype=torch.bfloat16)\n",
    "    u = torch.randn(config.batch_size, config.n_embd, config.block_size, requires_grad=True).cuda().to(dtype=torch.bfloat16)\n",
    "    y = layer(u.transpose(1,2)).permute(0, 2, 1)  # batch, dim, l\n",
    "    print(y.shape) \n",
    "    print(\"bs: %d, h: %d, n: %d, d: %d\" % (config.batch_size, config.n_head, config.block_size, config.n_embd))\n",
    "\n",
    "    # gradients from the future must be approx. zero\n",
    "    for i in tqdm(range(config.block_size - 1)):\n",
    "        for j in range(config.n_embd):\n",
    "            g = grad(y[0, j, i], u, retain_graph=True, allow_unused=True)[0]\n",
    "            check = torch.abs(g[0, :, i + 1 :])\n",
    "            assert (\n",
    "                torch.max(check) < 1e-7\n",
    "            ), \"function is not causal at position {}, {}\".format(i, check)\n",
    "    print(f\"Passed causality at l={config.block_size}, d_model={config.n_embd}, batch_size={config.batch_size}!\\n\\n\")\n",
    "\n",
    "test_attn_causality(\n",
    "    CustomAttention,\n",
    "    config,\n",
    ")"
   ]
  },
  {
   "cell_type": "code",
   "execution_count": null,
   "metadata": {},
   "outputs": [],
   "source": []
  }
 ],
 "metadata": {
  "kernelspec": {
   "display_name": "sim",
   "language": "python",
   "name": "python3"
  },
  "language_info": {
   "codemirror_mode": {
    "name": "ipython",
    "version": 3
   },
   "file_extension": ".py",
   "mimetype": "text/x-python",
   "name": "python",
   "nbconvert_exporter": "python",
   "pygments_lexer": "ipython3",
   "version": "3.11.9"
  }
 },
 "nbformat": 4,
 "nbformat_minor": 2
}
